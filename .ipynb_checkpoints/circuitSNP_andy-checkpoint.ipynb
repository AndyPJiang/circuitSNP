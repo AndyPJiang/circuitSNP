{
 "cells": [
  {
   "cell_type": "code",
   "execution_count": 1,
   "metadata": {},
   "outputs": [
    {
     "name": "stderr",
     "output_type": "stream",
     "text": [
      "Using TensorFlow backend.\n"
     ]
    }
   ],
   "source": [
    "from bs4 import BeautifulSoup\n",
    "from requests import get\n",
    "import re\n",
    "import wget\n",
    "import os\n",
    "import urllib\n",
    "import gzip\n",
    "import tarfile\n",
    "import time\n",
    "from pyfasta import Fasta\n",
    "import numpy as np\n",
    "import pandas as pd\n",
    "import subprocess\n",
    "import csv\n",
    "import glob\n",
    "from collections import defaultdict,Counter\n",
    "from sklearn.metrics import precision_recall_curve\n",
    "from sklearn.metrics import auc\n",
    "from scipy import stats\n",
    "from matplotlib import pyplot as plt\n",
    "\n",
    "from modules import download_datasets\n",
    "from modules import prepare_training_data\n",
    "from modules import prepare_validation_data_dsQTL\n",
    "from modules import train_models\n",
    "from modules import make_circuitSNP_predictions_dsQTL\n",
    "from modules import models\n",
    "\n",
    "ROOT_DIR = \"/data/projects/punim0614/andy/circuitSNP/\"\n",
    "FLANK_SIZES = (0,10,100,300)"
   ]
  },
  {
   "cell_type": "code",
   "execution_count": null,
   "metadata": {},
   "outputs": [],
   "source": [
    "import sys\n",
    "!{sys.executable} -m pip install wget==3.2\n",
    "!{sys.executable} -m pip install bs4 \n",
    "!{sys.executable} -m pip install requests \n",
    "!{sys.executable} -m pip install pyfasta==0.5.2\n",
    "!{sys.executable} -m pip install numpy==1.16.6 \n",
    "!{sys.executable} -m pip install pandas==0.24.2 \n",
    "!{sys.executable} -m pip install --upgrade tables\n",
    "!{sys.executable} -m pip install pybedtools\n",
    "!{sys.executable} -m pip install mpi4py\n",
    "!{sys.executable} -m pip install matplotlib==2.2.5"
   ]
  },
  {
   "cell_type": "code",
   "execution_count": null,
   "metadata": {},
   "outputs": [],
   "source": [
    "download_datasets.driver(ROOT_DIR)\n",
    "prepare_training_data.driver(ROOT_DIR)"
   ]
  },
  {
   "cell_type": "code",
   "execution_count": null,
   "metadata": {},
   "outputs": [],
   "source": [
    "# train models\n",
    "# run by submitting slurm job \n",
    "\n",
    "df = pd.read_csv('data/train_data_mat.csv',sep='\\t')\n",
    "\n",
    "for seed in range(10):\n",
    "    train_models.driver(ROOT_DIR, df, seed=seed)\n",
    "\n",
    "    \n",
    "# prepare dsQTL validation data\n",
    "for flank_size in FLANK_SIZES:\n",
    "    prepare_validation_data_dsQTL.driver(ROOT_DIR,flanking_size=flank_size)\n",
    "\n",
    "# make dsQTL validation predictions \n",
    "# run by submitting slurm job \n",
    "if not os.path.exists('{}data/validation/dsQTL/results/'.format(ROOT_DIR)):\n",
    "    os.mkdir('{}data/validation/dsQTL/results/'.format(ROOT_DIR))\n",
    "        \n",
    "for flank_size in FLANK_SIZES:\n",
    "    for seed in range(10):\n",
    "        make_circuitSNP_predictions_dsQTL.driver(ROOT_DIR, seed=seed, flanking_size=flank_size)"
   ]
  },
  {
   "cell_type": "code",
   "execution_count": 15,
   "metadata": {},
   "outputs": [
    {
     "name": "stdout",
     "output_type": "stream",
     "text": [
      "common snps already read at /data/projects/punim0614/andy/circuitSNP/data/validation/rasqual/common_snp_compendium.csv\n",
      "\n"
     ]
    },
    {
     "data": {
      "text/plain": [
       "519013"
      ]
     },
     "execution_count": 15,
     "metadata": {},
     "output_type": "execute_result"
    }
   ],
   "source": [
    "def create_csv_rasqual(path):\n",
    "\n",
    "#     if os.path.exists(path+'all_rasqual.csv'):\n",
    "#         print(\"rasqual dataset already read at {}\\n\".format(path+'all_rasqual.csv'))\n",
    "#         return\n",
    "    rasqual = gzip.open(path+'all.vars.inside.peak.gz')\n",
    "    df_rasqual = pd.read_csv(rasqual,delimiter='\\t',header=None)\n",
    "    \n",
    "    #indexes of columns that we need in the csv file\n",
    "    peak,chromosome,SNP_pos,q_value,effect_size = 0,2,3,9,11 \n",
    "    \n",
    "    # add \"chr\" prefix to all entries in chromosomes column to match notation with other datasets\n",
    "    chromosomes = list(df_rasqual.iloc[:,chromosome])\n",
    "    for i in range(len(chromosomes)):\n",
    "        chromosomes[i] = \"chr\" + str(chromosomes[i])\n",
    "    df_rasqual.iloc[:,chromosome] = chromosomes\n",
    "    \n",
    "    \n",
    "    # only keep columns that we need\n",
    "    df_rasqual = df_rasqual.iloc[:,[peak,chromosome,SNP_pos,q_value,effect_size]]\n",
    "    headers = ['peak','chr','start','Log_10 Benjamini-Hochberg Q-value','Effect size']\n",
    "    df_rasqual.columns = headers\n",
    "    df_rasqual['start'] = df_rasqual['start'] - 1\n",
    "    df_rasqual['end'] =  df_rasqual['start'] + 1\n",
    "    headers.append('end')\n",
    "    df_rasqual.drop_duplicates(subset=['chr','start','end'],inplace=True)\n",
    "    print(df_rasqual.shape)\n",
    "    df_rasqual.to_csv(path+'all_rasqual.csv',sep='\\t',header=headers,index=None)\n",
    "    \n",
    "    \n",
    "path = ROOT_DIR+'data/validation/rasqual/'\n",
    "\n",
    "if not os.path.exists(path+'all.vars.inside.peak.gz'):\n",
    "    wget.download('http://genome.grid.wayne.edu/centisnps/rasqual/all.vars.inside.peak.gz',path+'all.vars.inside.peak.gz')\n",
    "    \n",
    "create_csv_rasqual(path)\n",
    "#519013"
   ]
  },
  {
   "cell_type": "code",
   "execution_count": 71,
   "metadata": {
    "collapsed": true
   },
   "outputs": [
    {
     "name": "stdout",
     "output_type": "stream",
     "text": [
      "(638169, 14)\n",
      "    chr   start     end   motif  footprint_score_lr strand  ref_priorlodds  \\\n",
      "0  chr1  714018  714019  M00017         1084.787785      -      -11.625496   \n",
      "1  chr1  714018  714019  M00041          566.143905      -       -6.544198   \n",
      "2  chr1  714018  714019  M00113         1007.502772      -       -7.028592   \n",
      "3  chr1  714018  714019  M00178          761.378641      -      -11.427478   \n",
      "4  chr1  714018  714019  M00338          629.725952      -       -9.408153   \n",
      "\n",
      "   alt_priorlodds ref_allele alt_allele  effect   peak  \\\n",
      "0        3.364815          A          G       2  Peak4   \n",
      "1       -3.229038          A          G       2  Peak4   \n",
      "2       -2.264175          A          G       2  Peak4   \n",
      "3       -1.507790          A          G       2  Peak4   \n",
      "4       -2.975597          A          G       2  Peak4   \n",
      "\n",
      "   Log_10 Benjamini-Hochberg Q-value  Effect size  \n",
      "0                          -0.596094     0.515159  \n",
      "1                          -0.596094     0.515159  \n",
      "2                          -0.596094     0.515159  \n",
      "3                          -0.596094     0.515159  \n",
      "4                          -0.596094     0.515159  \n"
     ]
    }
   ],
   "source": [
    "def get_common_snps_compendium(path):\n",
    "    # find all common snps bewteen the rasqual file and the compendium files. Include compendium.\n",
    "\n",
    "#     if os.path.exists(path+'validation/rasqual/common_snp_compendium.csv'):\n",
    "#         print(\"common snps already read at {}\\n\".format(path+'validation/rasqual/common_snp_compendium.csv'))\n",
    "#         return\n",
    "\n",
    "    df_rasqual = pd.read_csv(path+'validation/rasqual/all_rasqual.csv',delimiter='\\t')\n",
    "    df_rasqual.set_index(['chr','start','end'],inplace=True)\n",
    "\n",
    "    df_compendium = pd.read_csv(path+'validation/all_snp_compendium.csv',delimiter='\\t')\n",
    "    df_compendium.set_index(['chr','start','end'],inplace=True)\n",
    "    \n",
    "    \n",
    "    common_snps_compendium = df_compendium.merge(df_rasqual, left_index=True, right_index=True)\n",
    "    common_snps_compendium.reset_index(inplace=True)\n",
    "\n",
    "#     common_snps_index = df_compendium.index.intersection(df_rasqual.index)\n",
    "    \n",
    "#     common_snps_compendium = df_compendium.loc[common_snps_index,:]\n",
    "#     common_snps_compendium['Log_10 Benjamini-Hochberg Q-value'] = df_rasqual['Log_10 Benjamini-Hochberg Q-value']\n",
    "#     common_snps_compendium['Effect size'] = df_rasqual['Effect size']\n",
    "\n",
    "    df_compendium.reset_index(inplace=True)\n",
    "    df_rasqual.reset_index(inplace=True)\n",
    "    print(common_snps_compendium.shape)\n",
    "    print(common_snps_compendium.head())\n",
    "    common_snps_compendium.to_csv(path+'validation/rasqual/common_snp_compendium.csv',index=False, sep='\\t')\n",
    "\n",
    "get_common_snps_compendium(ROOT_DIR+'data/')\n",
    "#638169"
   ]
  },
  {
   "cell_type": "code",
   "execution_count": 9,
   "metadata": {},
   "outputs": [
    {
     "name": "stdout",
     "output_type": "stream",
     "text": [
      "(42484, 14)\n"
     ]
    }
   ],
   "source": [
    "def filter_FDR(path, FDR=0.1):\n",
    "    file_path = path+'common_snp_compendium_FDR={}%.csv'.format(FDR)\n",
    "    if os.path.exists(file_path):\n",
    "        print(\"common snps compendium filtered by FDR already exists at {}\\n\".format(file_path))\n",
    "        return\n",
    "    \n",
    "    df = pd.read_csv(path+'common_snp_compendium.csv', delimiter='\\t')\n",
    "    # FDR of 10%\n",
    "    df = df.loc[df['Log_10 Benjamini-Hochberg Q-value']<= np.log10(FDR/100.0)]\n",
    "    print(df.shape)\n",
    "    df.to_csv(path+'common_snp_compendium_FDR={}%.csv'.format(FDR),index=False, sep='\\t')\n",
    "    \n",
    "filter_FDR(ROOT_DIR+'data/validation/rasqual/', FDR=10)\n",
    "#42484"
   ]
  },
  {
   "cell_type": "code",
   "execution_count": 11,
   "metadata": {
    "scrolled": true
   },
   "outputs": [
    {
     "name": "stdout",
     "output_type": "stream",
     "text": [
      "common unique snps already exists at /data/projects/punim0614/andy/circuitSNP/data/validation/rasqual/common_snp_unique_FDR=10%.csv\n",
      "\n"
     ]
    }
   ],
   "source": [
    "def get_common_snps_unique(path, FDR=10):\n",
    "    # get all unique snps that are common bewteen the rasqual file and the compendium files. \n",
    "    # This only includes the chromosome and start position without the other columns\n",
    "    \n",
    "    file_path = path+'common_snp_unique_FDR={}%.csv'.format(FDR)\n",
    "    if os.path.exists(file_path):\n",
    "        print(\"common unique snps already exists at {}\\n\".format(file_path))\n",
    "        return\n",
    "\n",
    "    df_effectsize_labels = pd.DataFrame(columns=['Effect size'])\n",
    "\n",
    "    df = pd.read_csv(path+'common_snp_compendium_FDR={}%.csv'.format(FDR), delimiter='\\t')\n",
    "    \n",
    "    df.drop_duplicates(subset=['chr','start','end'], inplace=True)\n",
    "    df.set_index(['chr','start','end'],inplace=True)\n",
    "    df = df.sort_index()\n",
    "    df.reset_index(inplace=True)\n",
    "    df_valid_unique = df.iloc[:,0:3]\n",
    "    df_effectsize_labels['Effect size'] = df['Effect size']\n",
    "    print(df_valid_unique.shape)\n",
    "    df_effectsize_labels.to_csv(path+'common_snp_effectsize_labels_FDR={}%.csv'.format(FDR), index=False, sep='\\t')\n",
    "    df_valid_unique.to_csv(path+'common_snp_unique_FDR={}%.csv'.format(FDR),index=False, sep='\\t')\n",
    "    \n",
    "\n",
    "get_common_snps_unique(ROOT_DIR+'data/validation/rasqual/', FDR=10)"
   ]
  },
  {
   "cell_type": "code",
   "execution_count": 13,
   "metadata": {
    "collapsed": true
   },
   "outputs": [
    {
     "name": "stdout",
     "output_type": "stream",
     "text": [
      "Making snp footprint matrix\n",
      "M00001: 62, count of 1's: 62\n",
      "M00002: 28, count of 1's: 28\n",
      "M00003: 1, count of 1's: 1\n",
      "M00006: 1, count of 1's: 1\n",
      "M00007: 29, count of 1's: 29\n",
      "M00008: 93, count of 1's: 93\n",
      "M00014: 21, count of 1's: 21\n",
      "M00015: 0, count of 1's: 0\n",
      "M00016: 50, count of 1's: 50\n",
      "M00017: 132, count of 1's: 132\n",
      "M00018: 0, count of 1's: 0\n",
      "M00019: 1, count of 1's: 1\n",
      "M00021: 0, count of 1's: 0\n",
      "M00022: 0, count of 1's: 0\n",
      "M00024: 66, count of 1's: 66\n",
      "M00025: 11, count of 1's: 11\n",
      "M00026: 0, count of 1's: 0\n",
      "M00031: 1, count of 1's: 1\n",
      "M00032: 194, count of 1's: 194\n",
      "M00034: 34, count of 1's: 34\n",
      "M00035: 25, count of 1's: 25\n",
      "M00036: 38, count of 1's: 38\n",
      "M00037: 22, count of 1's: 22\n",
      "M00039: 11, count of 1's: 11\n",
      "M00040: 5, count of 1's: 5\n",
      "M00041: 52, count of 1's: 52\n",
      "M00042: 3, count of 1's: 3\n",
      "M00043: 8, count of 1's: 8\n",
      "M00044: 11, count of 1's: 11\n",
      "M00045: 1, count of 1's: 1\n",
      "M00046: 16, count of 1's: 16\n",
      "M00047: 2, count of 1's: 2\n"
     ]
    },
    {
     "ename": "KeyboardInterrupt",
     "evalue": "",
     "output_type": "error",
     "traceback": [
      "\u001b[0;31m\u001b[0m",
      "\u001b[0;31mKeyboardInterrupt\u001b[0mTraceback (most recent call last)",
      "\u001b[0;32m<ipython-input-13-51bf70ab40d7>\u001b[0m in \u001b[0;36m<module>\u001b[0;34m()\u001b[0m\n\u001b[1;32m     71\u001b[0m \u001b[0;34m\u001b[0m\u001b[0m\n\u001b[1;32m     72\u001b[0m \u001b[0;34m\u001b[0m\u001b[0m\n\u001b[0;32m---> 73\u001b[0;31m \u001b[0mmake_snp_footprint_matrix\u001b[0m\u001b[0;34m(\u001b[0m\u001b[0mROOT_DIR\u001b[0m\u001b[0;34m+\u001b[0m\u001b[0;34m'data/'\u001b[0m\u001b[0;34m,\u001b[0m\u001b[0mflanking_size\u001b[0m\u001b[0;34m=\u001b[0m\u001b[0;36m0\u001b[0m\u001b[0;34m,\u001b[0m \u001b[0mFDR\u001b[0m\u001b[0;34m=\u001b[0m\u001b[0;36m10\u001b[0m\u001b[0;34m)\u001b[0m\u001b[0;34m\u001b[0m\u001b[0m\n\u001b[0m\u001b[1;32m     74\u001b[0m \u001b[0mmake_ref_alt_matrix\u001b[0m\u001b[0;34m(\u001b[0m\u001b[0mROOT_DIR\u001b[0m\u001b[0;34m+\u001b[0m\u001b[0;34m'data/validation/'\u001b[0m\u001b[0;34m,\u001b[0m\u001b[0mallele\u001b[0m\u001b[0;34m=\u001b[0m\u001b[0;34m'ref'\u001b[0m\u001b[0;34m,\u001b[0m \u001b[0mflanking_size\u001b[0m\u001b[0;34m=\u001b[0m\u001b[0;36m0\u001b[0m\u001b[0;34m,\u001b[0m \u001b[0mFDR\u001b[0m\u001b[0;34m=\u001b[0m\u001b[0;36m10\u001b[0m\u001b[0;34m)\u001b[0m\u001b[0;34m\u001b[0m\u001b[0m\n\u001b[1;32m     75\u001b[0m \u001b[0mmake_ref_alt_matrix\u001b[0m\u001b[0;34m(\u001b[0m\u001b[0mROOT_DIR\u001b[0m\u001b[0;34m+\u001b[0m\u001b[0;34m'data/validation/'\u001b[0m\u001b[0;34m,\u001b[0m\u001b[0mallele\u001b[0m\u001b[0;34m=\u001b[0m\u001b[0;34m'alt'\u001b[0m\u001b[0;34m,\u001b[0m \u001b[0mflanking_size\u001b[0m\u001b[0;34m=\u001b[0m\u001b[0;36m0\u001b[0m\u001b[0;34m,\u001b[0m \u001b[0mFDR\u001b[0m\u001b[0;34m=\u001b[0m\u001b[0;36m10\u001b[0m\u001b[0;34m)\u001b[0m\u001b[0;34m\u001b[0m\u001b[0m\n",
      "\u001b[0;32m<ipython-input-13-51bf70ab40d7>\u001b[0m in \u001b[0;36mmake_snp_footprint_matrix\u001b[0;34m(path, flanking_size, FDR)\u001b[0m\n\u001b[1;32m     17\u001b[0m         \u001b[0mmotif_name\u001b[0m \u001b[0;34m=\u001b[0m \u001b[0mre\u001b[0m\u001b[0;34m.\u001b[0m\u001b[0mcompile\u001b[0m\u001b[0;34m(\u001b[0m\u001b[0;34m'.*/(.*).combo.bed.gz'\u001b[0m\u001b[0;34m)\u001b[0m\u001b[0;34m.\u001b[0m\u001b[0msearch\u001b[0m\u001b[0;34m(\u001b[0m\u001b[0mmotif\u001b[0m\u001b[0;34m)\u001b[0m\u001b[0;34m.\u001b[0m\u001b[0mgroup\u001b[0m\u001b[0;34m(\u001b[0m\u001b[0;36m1\u001b[0m\u001b[0;34m)\u001b[0m\u001b[0;34m\u001b[0m\u001b[0m\n\u001b[1;32m     18\u001b[0m         \u001b[0mcmd_str\u001b[0m \u001b[0;34m=\u001b[0m \u001b[0;34m\"bedtools intersect -a {}validation/rasqual/common_snp_unique_FDR={}%.csv -b {} -c | cut -f 4\"\u001b[0m\u001b[0;34m.\u001b[0m\u001b[0mformat\u001b[0m\u001b[0;34m(\u001b[0m\u001b[0mpath\u001b[0m\u001b[0;34m,\u001b[0m \u001b[0mFDR\u001b[0m\u001b[0;34m,\u001b[0m \u001b[0mmotif\u001b[0m\u001b[0;34m)\u001b[0m\u001b[0;34m\u001b[0m\u001b[0m\n\u001b[0;32m---> 19\u001b[0;31m         \u001b[0mout\u001b[0m \u001b[0;34m=\u001b[0m \u001b[0msubprocess\u001b[0m\u001b[0;34m.\u001b[0m\u001b[0mcheck_output\u001b[0m\u001b[0;34m(\u001b[0m\u001b[0mcmd_str\u001b[0m\u001b[0;34m,\u001b[0m\u001b[0mshell\u001b[0m\u001b[0;34m=\u001b[0m\u001b[0mTrue\u001b[0m\u001b[0;34m)\u001b[0m\u001b[0;34m\u001b[0m\u001b[0m\n\u001b[0m\u001b[1;32m     20\u001b[0m         \u001b[0;31m# convert numbers from string to integers. Last line is empty so don't include\u001b[0m\u001b[0;34m\u001b[0m\u001b[0;34m\u001b[0m\u001b[0m\n\u001b[1;32m     21\u001b[0m         \u001b[0mfootprint\u001b[0m \u001b[0;34m=\u001b[0m \u001b[0mmap\u001b[0m\u001b[0;34m(\u001b[0m\u001b[0mint\u001b[0m\u001b[0;34m,\u001b[0m\u001b[0mout\u001b[0m\u001b[0;34m.\u001b[0m\u001b[0msplit\u001b[0m\u001b[0;34m(\u001b[0m\u001b[0;34m'\\n'\u001b[0m\u001b[0;34m)\u001b[0m\u001b[0;34m[\u001b[0m\u001b[0;34m:\u001b[0m\u001b[0;34m-\u001b[0m\u001b[0;36m1\u001b[0m\u001b[0;34m]\u001b[0m\u001b[0;34m)\u001b[0m\u001b[0;34m\u001b[0m\u001b[0m\n",
      "\u001b[0;32m/usr/local/easybuild/software/Python/2.7.13-intel-2017.u2/lib/python2.7/subprocess.pyc\u001b[0m in \u001b[0;36mcheck_output\u001b[0;34m(*popenargs, **kwargs)\u001b[0m\n\u001b[1;32m    211\u001b[0m         \u001b[0;32mraise\u001b[0m \u001b[0mValueError\u001b[0m\u001b[0;34m(\u001b[0m\u001b[0;34m'stdout argument not allowed, it will be overridden.'\u001b[0m\u001b[0;34m)\u001b[0m\u001b[0;34m\u001b[0m\u001b[0m\n\u001b[1;32m    212\u001b[0m     \u001b[0mprocess\u001b[0m \u001b[0;34m=\u001b[0m \u001b[0mPopen\u001b[0m\u001b[0;34m(\u001b[0m\u001b[0mstdout\u001b[0m\u001b[0;34m=\u001b[0m\u001b[0mPIPE\u001b[0m\u001b[0;34m,\u001b[0m \u001b[0;34m*\u001b[0m\u001b[0mpopenargs\u001b[0m\u001b[0;34m,\u001b[0m \u001b[0;34m**\u001b[0m\u001b[0mkwargs\u001b[0m\u001b[0;34m)\u001b[0m\u001b[0;34m\u001b[0m\u001b[0m\n\u001b[0;32m--> 213\u001b[0;31m     \u001b[0moutput\u001b[0m\u001b[0;34m,\u001b[0m \u001b[0munused_err\u001b[0m \u001b[0;34m=\u001b[0m \u001b[0mprocess\u001b[0m\u001b[0;34m.\u001b[0m\u001b[0mcommunicate\u001b[0m\u001b[0;34m(\u001b[0m\u001b[0;34m)\u001b[0m\u001b[0;34m\u001b[0m\u001b[0m\n\u001b[0m\u001b[1;32m    214\u001b[0m     \u001b[0mretcode\u001b[0m \u001b[0;34m=\u001b[0m \u001b[0mprocess\u001b[0m\u001b[0;34m.\u001b[0m\u001b[0mpoll\u001b[0m\u001b[0;34m(\u001b[0m\u001b[0;34m)\u001b[0m\u001b[0;34m\u001b[0m\u001b[0m\n\u001b[1;32m    215\u001b[0m     \u001b[0;32mif\u001b[0m \u001b[0mretcode\u001b[0m\u001b[0;34m:\u001b[0m\u001b[0;34m\u001b[0m\u001b[0m\n",
      "\u001b[0;32m/usr/local/easybuild/software/Python/2.7.13-intel-2017.u2/lib/python2.7/subprocess.pyc\u001b[0m in \u001b[0;36mcommunicate\u001b[0;34m(self, input)\u001b[0m\n\u001b[1;32m    469\u001b[0m                 \u001b[0mself\u001b[0m\u001b[0;34m.\u001b[0m\u001b[0mstdin\u001b[0m\u001b[0;34m.\u001b[0m\u001b[0mclose\u001b[0m\u001b[0;34m(\u001b[0m\u001b[0;34m)\u001b[0m\u001b[0;34m\u001b[0m\u001b[0m\n\u001b[1;32m    470\u001b[0m             \u001b[0;32melif\u001b[0m \u001b[0mself\u001b[0m\u001b[0;34m.\u001b[0m\u001b[0mstdout\u001b[0m\u001b[0;34m:\u001b[0m\u001b[0;34m\u001b[0m\u001b[0m\n\u001b[0;32m--> 471\u001b[0;31m                 \u001b[0mstdout\u001b[0m \u001b[0;34m=\u001b[0m \u001b[0m_eintr_retry_call\u001b[0m\u001b[0;34m(\u001b[0m\u001b[0mself\u001b[0m\u001b[0;34m.\u001b[0m\u001b[0mstdout\u001b[0m\u001b[0;34m.\u001b[0m\u001b[0mread\u001b[0m\u001b[0;34m)\u001b[0m\u001b[0;34m\u001b[0m\u001b[0m\n\u001b[0m\u001b[1;32m    472\u001b[0m                 \u001b[0mself\u001b[0m\u001b[0;34m.\u001b[0m\u001b[0mstdout\u001b[0m\u001b[0;34m.\u001b[0m\u001b[0mclose\u001b[0m\u001b[0;34m(\u001b[0m\u001b[0;34m)\u001b[0m\u001b[0;34m\u001b[0m\u001b[0m\n\u001b[1;32m    473\u001b[0m             \u001b[0;32melif\u001b[0m \u001b[0mself\u001b[0m\u001b[0;34m.\u001b[0m\u001b[0mstderr\u001b[0m\u001b[0;34m:\u001b[0m\u001b[0;34m\u001b[0m\u001b[0m\n",
      "\u001b[0;32m/usr/local/easybuild/software/Python/2.7.13-intel-2017.u2/lib/python2.7/subprocess.pyc\u001b[0m in \u001b[0;36m_eintr_retry_call\u001b[0;34m(func, *args)\u001b[0m\n\u001b[1;32m    119\u001b[0m     \u001b[0;32mwhile\u001b[0m \u001b[0mTrue\u001b[0m\u001b[0;34m:\u001b[0m\u001b[0;34m\u001b[0m\u001b[0m\n\u001b[1;32m    120\u001b[0m         \u001b[0;32mtry\u001b[0m\u001b[0;34m:\u001b[0m\u001b[0;34m\u001b[0m\u001b[0m\n\u001b[0;32m--> 121\u001b[0;31m             \u001b[0;32mreturn\u001b[0m \u001b[0mfunc\u001b[0m\u001b[0;34m(\u001b[0m\u001b[0;34m*\u001b[0m\u001b[0margs\u001b[0m\u001b[0;34m)\u001b[0m\u001b[0;34m\u001b[0m\u001b[0m\n\u001b[0m\u001b[1;32m    122\u001b[0m         \u001b[0;32mexcept\u001b[0m \u001b[0;34m(\u001b[0m\u001b[0mOSError\u001b[0m\u001b[0;34m,\u001b[0m \u001b[0mIOError\u001b[0m\u001b[0;34m)\u001b[0m \u001b[0;32mas\u001b[0m \u001b[0me\u001b[0m\u001b[0;34m:\u001b[0m\u001b[0;34m\u001b[0m\u001b[0m\n\u001b[1;32m    123\u001b[0m             \u001b[0;32mif\u001b[0m \u001b[0me\u001b[0m\u001b[0;34m.\u001b[0m\u001b[0merrno\u001b[0m \u001b[0;34m==\u001b[0m \u001b[0merrno\u001b[0m\u001b[0;34m.\u001b[0m\u001b[0mEINTR\u001b[0m\u001b[0;34m:\u001b[0m\u001b[0;34m\u001b[0m\u001b[0m\n",
      "\u001b[0;31mKeyboardInterrupt\u001b[0m: "
     ]
    }
   ],
   "source": [
    "def make_snp_footprint_matrix(path, flanking_size=0, FDR=10):\n",
    "    # make snp vectors(A matrix) - a snp vector is a binary vector, each entry corresponds a specific motif.\n",
    "    # Entry is 1 if that motifs that overlap with the snp, 0 otherwise. (Similar to how we built training matrix)\n",
    "    motif_files = sorted(glob.glob(path+'combo/*.gz'))\n",
    "    \n",
    "    headers = ['chr','start','end']\n",
    "    df = pd.read_csv(path+'validation/rasqual/common_snp_unique_FDR={}%.csv'.format(FDR),sep='\\t')\n",
    "    print(\"Making snp footprint matrix\")\n",
    "    \n",
    "    '''\n",
    "    if len(df.columns) > 3:\n",
    "        print(\"snp footprint matrix already made at {}\\n\".format(path+'validation/dsQTL/common_snp_unique.csv'))\n",
    "        return\n",
    "    '''\n",
    "        \n",
    "    for idx,motif in enumerate(motif_files):\n",
    "        motif_name = re.compile('.*/(.*).combo.bed.gz').search(motif).group(1)\n",
    "        cmd_str = \"bedtools intersect -a {}validation/rasqual/common_snp_unique_FDR={}%.csv -b {} -c | cut -f 4\".format(path, FDR, motif)\n",
    "        out = subprocess.check_output(cmd_str,shell=True)\n",
    "        # convert numbers from string to integers. Last line is empty so don't include\n",
    "        footprint = map(int,out.split('\\n')[:-1])\n",
    "        footprint = (np.array(footprint) >=1).astype(int)\n",
    "        headers.append(motif_name)\n",
    "        print(\"{}: {}, count of 1's: {}\".format(motif_name, sum(footprint),Counter(footprint)[1]))\n",
    "        df[motif_name] = footprint\n",
    "        \n",
    "        \n",
    "    df.to_csv(path+'validation/rasqual/common_snp_unique_footprint_FDR={}%.csv'.format(FDR),index=False, header = headers, sep='\\t')\n",
    "    \n",
    "\n",
    "# make reference/alternate matrix that is to be fed into the NN. Each row is a unique SNP with its motif footprint \n",
    "def make_ref_alt_matrix(path, allele='ref',flanking_size=0, FDR=10):\n",
    "    print(\"Making {} allele matrix\".format(allele))\n",
    "    \n",
    "#     if os.path.exists(path+'rasqual/common_snp_unique_{}.csv'.format(allele)):\n",
    "#         print(\"{} matrix already made at {}\\n\".format(allele, path+'rasqual/common_snp_unique_{}.csv'.format(allele)))\n",
    "#         return\n",
    "\n",
    "    df_compendium = pd.read_csv(path+'rasqual/common_snp_compendium_FDR={}%.csv'.format(FDR), sep='\\t')\n",
    "    df_validation = pd.read_csv(path+'rasqual/common_snp_unique_footprint_FDR={}%.csv'.format(FDR),sep='\\t')\n",
    "\n",
    "    df_compendium.set_index(['chr','start','end'],inplace=True)\n",
    "    df_validation.set_index(['chr','start','end'],inplace=True)\n",
    "    \n",
    "    # only interested in rows where the motif has an effect on binding (effect = 2)\n",
    "    df_compendium = df_compendium.loc[df_compendium['effect']==2]\n",
    "\n",
    "    ref_priorlodds = np.array(df_compendium['ref_priorlodds'])\n",
    "    alt_priorlodds = np.array(df_compendium['alt_priorlodds'])\n",
    "    if allele=='ref':\n",
    "        # if ref_priorlodds-alt_priorlodds is greater than 0, reference allele increases binding\n",
    "        df_compendium['binding_direction'] = (ref_priorlodds-alt_priorlodds > 0).astype(int)\n",
    "    else:\n",
    "        # if ref_priorlodds-alt_priorlodds less than 0, alternate allele increases binding\n",
    "        df_compendium['binding_direction'] = (ref_priorlodds-alt_priorlodds <= 0).astype(int)\n",
    "        \n",
    "    for index in df_validation.index.values:\n",
    "        try:\n",
    "            centisnp = df_compendium.loc[index,['motif','binding_direction']]\n",
    "        except:\n",
    "            continue\n",
    "        for motif in centisnp.values:\n",
    "            motif_name, binding_direction = motif\n",
    "            # only consider motifs that overlap with the snp\n",
    "            if df_validation.at[index,motif_name] == 1:\n",
    "                df_validation.at[index,motif_name] = binding_direction\n",
    "\n",
    "    df_validation.reset_index(inplace=True)\n",
    "    df_compendium.reset_index(inplace=True)\n",
    "    df_validation.to_csv(path+'rasqual/common_snp_unique_{}_FDR={}%.csv'.format(allele,FDR),index=False, sep='\\t')\n",
    "\n",
    "\n",
    "make_snp_footprint_matrix(ROOT_DIR+'data/',flanking_size=0, FDR=10)\n",
    "make_ref_alt_matrix(ROOT_DIR+'data/validation/',allele='ref', flanking_size=0, FDR=10)\n",
    "make_ref_alt_matrix(ROOT_DIR+'data/validation/',allele='alt', flanking_size=0, FDR=10)\n"
   ]
  },
  {
   "cell_type": "code",
   "execution_count": 14,
   "metadata": {
    "collapsed": true
   },
   "outputs": [
    {
     "ename": "OSError",
     "evalue": "[Errno 2] No such file or directory: '/data/projects/punim0614/andy/circuitSNP/data/validation/rasqual/results/FDR=10%/models_seed=0/'",
     "output_type": "error",
     "traceback": [
      "\u001b[0;31m\u001b[0m",
      "\u001b[0;31mOSError\u001b[0mTraceback (most recent call last)",
      "\u001b[0;32m<ipython-input-14-aa46c24a4145>\u001b[0m in \u001b[0;36m<module>\u001b[0;34m()\u001b[0m\n\u001b[1;32m     52\u001b[0m     \u001b[0mos\u001b[0m\u001b[0;34m.\u001b[0m\u001b[0mmkdir\u001b[0m\u001b[0;34m(\u001b[0m\u001b[0;34m'{}data/validation/rasqual/results'\u001b[0m\u001b[0;34m.\u001b[0m\u001b[0mformat\u001b[0m\u001b[0;34m(\u001b[0m\u001b[0mROOT_DIR\u001b[0m\u001b[0;34m)\u001b[0m\u001b[0;34m)\u001b[0m\u001b[0;34m\u001b[0m\u001b[0m\n\u001b[1;32m     53\u001b[0m \u001b[0;32mfor\u001b[0m \u001b[0mi\u001b[0m \u001b[0;32min\u001b[0m \u001b[0mrange\u001b[0m\u001b[0;34m(\u001b[0m\u001b[0;36m0\u001b[0m\u001b[0;34m,\u001b[0m\u001b[0;36m10\u001b[0m\u001b[0;34m)\u001b[0m\u001b[0;34m:\u001b[0m\u001b[0;34m\u001b[0m\u001b[0m\n\u001b[0;32m---> 54\u001b[0;31m     \u001b[0mmake_circuitSNP_predictions\u001b[0m\u001b[0;34m(\u001b[0m\u001b[0mROOT_DIR\u001b[0m\u001b[0;34m,\u001b[0m \u001b[0mseed\u001b[0m\u001b[0;34m=\u001b[0m\u001b[0mi\u001b[0m\u001b[0;34m,\u001b[0m \u001b[0mFDR\u001b[0m\u001b[0;34m=\u001b[0m\u001b[0;36m10\u001b[0m\u001b[0;34m)\u001b[0m\u001b[0;34m\u001b[0m\u001b[0m\n\u001b[0m",
      "\u001b[0;32m<ipython-input-14-aa46c24a4145>\u001b[0m in \u001b[0;36mmake_circuitSNP_predictions\u001b[0;34m(path, seed, FDR)\u001b[0m\n\u001b[1;32m     16\u001b[0m     \u001b[0;31m# make directory to save results to\u001b[0m\u001b[0;34m\u001b[0m\u001b[0;34m\u001b[0m\u001b[0m\n\u001b[1;32m     17\u001b[0m     \u001b[0;32mif\u001b[0m \u001b[0;32mnot\u001b[0m \u001b[0mos\u001b[0m\u001b[0;34m.\u001b[0m\u001b[0mpath\u001b[0m\u001b[0;34m.\u001b[0m\u001b[0mexists\u001b[0m\u001b[0;34m(\u001b[0m\u001b[0mdir_path\u001b[0m\u001b[0;34m)\u001b[0m\u001b[0;34m:\u001b[0m\u001b[0;34m\u001b[0m\u001b[0m\n\u001b[0;32m---> 18\u001b[0;31m         \u001b[0mos\u001b[0m\u001b[0;34m.\u001b[0m\u001b[0mmkdir\u001b[0m\u001b[0;34m(\u001b[0m\u001b[0mdir_path\u001b[0m\u001b[0;34m)\u001b[0m\u001b[0;34m\u001b[0m\u001b[0m\n\u001b[0m\u001b[1;32m     19\u001b[0m \u001b[0;34m\u001b[0m\u001b[0m\n\u001b[1;32m     20\u001b[0m     \u001b[0mmodels_dir\u001b[0m\u001b[0;34m=\u001b[0m \u001b[0msorted\u001b[0m\u001b[0;34m(\u001b[0m\u001b[0mglob\u001b[0m\u001b[0;34m.\u001b[0m\u001b[0mglob\u001b[0m\u001b[0;34m(\u001b[0m\u001b[0;34m'{}models/models_seed={}/*.h5'\u001b[0m\u001b[0;34m.\u001b[0m\u001b[0mformat\u001b[0m\u001b[0;34m(\u001b[0m\u001b[0mpath\u001b[0m\u001b[0;34m,\u001b[0m\u001b[0mseed\u001b[0m\u001b[0;34m)\u001b[0m\u001b[0;34m)\u001b[0m\u001b[0;34m)\u001b[0m\u001b[0;34m\u001b[0m\u001b[0m\n",
      "\u001b[0;31mOSError\u001b[0m: [Errno 2] No such file or directory: '/data/projects/punim0614/andy/circuitSNP/data/validation/rasqual/results/FDR=10%/models_seed=0/'"
     ]
    }
   ],
   "source": [
    "def log_odds_diff(p1,p2):\n",
    "    np.seterr(all='raise') \n",
    "    # avoid taking the log of 0\n",
    "    p1[p1==1.0] = 0.999999\n",
    "    p2[p2==1.0] = 0.999999\n",
    "    p1[p1==0.0] = 0.000001\n",
    "    p2[p2==0.0] = 0.000001\n",
    "    return np.log(p1) - np.log(1-p1) - (np.log(p2) - np.log(1-p2))\n",
    "\n",
    "def make_circuitSNP_predictions(path,seed=0,FDR=10):\n",
    "    INPUT_DIM = 1372\n",
    "    nn_models = models.Model(INPUT_DIM)\n",
    "    \n",
    "    dir_path = '{}data/validation/rasqual/results/FDR={}%/models_seed={}/'.format(path,FDR,seed)\n",
    "    \n",
    "    # make directory to save results to \n",
    "    if not os.path.exists(dir_path):\n",
    "        os.mkdir(dir_path)\n",
    "    \n",
    "    models_dir= sorted(glob.glob('{}models/models_seed={}/*.h5'.format(path,seed)))\n",
    "    \n",
    "    X_data_ref = pd.read_csv(path+'data/validation/rasqual/common_snp_unique_ref_FDR={}%.csv'.format(FDR), delimiter='\\t')\n",
    "    X_data_alt = pd.read_csv(path+'data/validation/rasqual/common_snp_unique_alt_FDR={}%.csv'.format(FDR), delimiter='\\t')\n",
    "\n",
    "    output = pd.DataFrame(columns = ['ref','alt','circuitsnp_prediction'])\n",
    "                             \n",
    "    for model_weights in models_dir:\n",
    "        print(model_weights)\n",
    "        model_arch = re.compile('.*/model(.*)_replicate.*').search(model_weights).group(1)\n",
    "        model_arch_split = model_arch.split('+')\n",
    "        replicate_num = re.compile('/.*_replicate_(.*).h5').search(model_weights).group(1)\n",
    "        hid_layer1_units, hid_layer2_units = map(int,(model_arch_split[0][1:],model_arch_split[1][:-1]))\n",
    "\n",
    "        if hid_layer1_units == 0 and hid_layer2_units == 0:\n",
    "            model = nn_models.create_model_simple0()\n",
    "        elif hid_layer2_units == 0:\n",
    "            model = nn_models.create_model_simple1()\n",
    "        else:\n",
    "            model = nn_models.create_model(hid_layer1_units,hid_layer2_units)\n",
    "\n",
    "        model.load_weights(model_weights)\n",
    "        output['ref'] = model.predict(X_data_ref.iloc[:,3:],verbose=0).flatten()\n",
    "        output['alt'] = model.predict(X_data_alt.iloc[:,3:],verbose=0).flatten()\n",
    "        \n",
    "        \n",
    "        output['circuitsnp_prediction'] = log_odds_diff(np.array(output['ref']),np.array(output['alt']))\n",
    "        output.to_csv(dir_path+'model{}_replicate_{}_validation_output.csv'\n",
    "                      .format(model_arch, replicate_num),index=False,sep='\\t')\n",
    "        \n",
    "        \n",
    "dir_path = ROOT_DIR + 'data/validation/rasqual/results/'\n",
    "if not os.path.exists(dir_path):\n",
    "    os.mkdir(dir_path)\n",
    "\n",
    "for fdr in (10,5):\n",
    "    if not os.path.exists(dir_path+'FDR={}%'.format(fdr)):\n",
    "        os.mkdir(dir_path+'FDR={}%'.format(fdr))\n",
    "    for i in range(0,10):\n",
    "        make_circuitSNP_predictions(ROOT_DIR, seed=i, FDR=fdr)"
   ]
  },
  {
   "cell_type": "code",
   "execution_count": 20,
   "metadata": {},
   "outputs": [
    {
     "name": "stdout",
     "output_type": "stream",
     "text": [
      "(278, 2)\n",
      "SpearmanrResult(correlation=-0.750157083913468, pvalue=1.6881694789476713e-51)\n"
     ]
    },
    {
     "data": {
      "image/png": "[encoded data removed]",
      "text/plain": [
       "<Figure size 432x288 with 1 Axes>"
      ]
     },
     "metadata": {
      "needs_background": "light"
     },
     "output_type": "display_data"
    }
   ],
   "source": [
    "# Plot FDR 10%\n",
    "df = pd.read_csv('data/validation/rasqual/results/FDR=10%/models_seed=0/model(5+3)_replicate_5_validation_output.csv',delimiter='\\t')\n",
    "df_rasqual = pd.read_csv('data/validation/rasqual/common_snp_effectsize_labels_FDR=10%.csv',delimiter='\\t')\n",
    "\n",
    "out = pd.DataFrame(columns=['circuitSNP','Effect size'])\n",
    "out['circuitSNP'] = df['circuitsnp_prediction']\n",
    "out['Effect size'] = df_rasqual['Effect size']\n",
    "\n",
    "out= out[np.abs(out['circuitSNP'])>=3]\n",
    "\n",
    "print(out.shape)\n",
    "r = stats.spearmanr(out['circuitSNP'],out['Effect size'])\n",
    "print(r)\n",
    "\n",
    "plt.figure()\n",
    "plt.plot(-out['circuitSNP'],out['Effect size'],'mo',markersize=2)\n",
    "plt.xlabel(\"circuitSNPs Predictions\")\n",
    "plt.ylabel(\"rasqual Effect Size\")\n",
    "\n",
    "plt.savefig(ROOT_DIR+'data/validation/rasqual/results/figure4Right_fromPaper.png')\n",
    "\n",
    "plt.show()\n"
   ]
  },
  {
   "cell_type": "code",
   "execution_count": 2,
   "metadata": {},
   "outputs": [
    {
     "name": "stdout",
     "output_type": "stream",
     "text": [
      "0\n",
      "1\n",
      "2\n",
      "3\n",
      "4\n",
      "5\n",
      "6\n",
      "7\n",
      "8\n",
      "9\n",
      "defaultdict(<type 'list'>, {'(200+40)': [0.16631178132505503, 0.16746392911301786, 0.17015692412924208, 0.16877040933321302, 0.17130693992095603, 0.167981668686094, 0.16492913560058625, 0.16944664976297835, 0.1708088096539286, 0.16603214907494096], '(5+3)': [0.16588861733785107, 0.16638804126762466, 0.1693807720916301, 0.1683250245404354, 0.16635950757704762, 0.16484460981615484, 0.16804403207984037, 0.16516444193102267, 0.1671901393473907, 0.16619923822056593], '(1+0)': [0.1627788857676496, 0.16309322965766923, 0.1610970091029707, 0.16313535517227723, 0.16347170861079094, 0.16203052198533646, 0.164530400174225, 0.16121174531663668, 0.163721119850264, 0.16260144073115446], '(50+10)': [0.170867926539729, 0.17207523238929057, 0.17300674880740613, 0.17201151209171076, 0.17405117610821197, 0.16983394547498434, 0.17010619488248302, 0.1723597858479734, 0.1715563184100147, 0.16977241112155694], '(10+5)': [0.16741020623466157, 0.16960245483629977, 0.17065368768254785, 0.17173384728970637, 0.17015116836582617, 0.1690249458685494, 0.16555075790172985, 0.17008936872702182, 0.16848403143659726, 0.1693912612304875], '(0+0)': [0.16342918940176931, 0.1607950665194782, 0.1624670542060387, 0.16402645730462345, 0.16387267377375223, 0.16051282851033372, 0.16311822768274173, 0.16199563480771623, 0.16345782359069172, 0.1623640163844004]})\n"
     ]
    }
   ],
   "source": [
    "# Plot snp validation results \n",
    "def plot_validation_results_rasqual(path, seed=0, FDR=10):\n",
    "    validation_output_dir= sorted(glob.glob(path+'results/FDR={}%/models_seed={}/*.csv'.format(FDR,seed)))\n",
    "    df_label = pd.read_csv(path+'common_snp_effectsize_labels_FDR={}%.csv'.format(FDR),delimiter='\\t')\n",
    "    # stores a list of correlations for each model architecture\n",
    "    correlation = defaultdict(list)\n",
    "    \n",
    "    true = np.array(df_label['Effect size'])\n",
    "    for output in validation_output_dir:\n",
    "        df = pd.read_csv(output, delimiter='\\t')\n",
    "        model_arch = re.compile('models_seed=.*/model(.*)_replicate.*').search(output).group(1)\n",
    "        pred = np.array(-df['circuitsnp_prediction'])\n",
    "        \n",
    "        r,_ = stats.spearmanr(true,pred)\n",
    "        correlation[model_arch].append(r)\n",
    "        \n",
    "    \n",
    "    # take the average correlation of all 10 replicates for each model architecture\n",
    "    for key in correlation:\n",
    "        correlation[key] = np.average(correlation[key])\n",
    "        \n",
    "    return correlation\n",
    "\n",
    "\n",
    "correlation_plot = defaultdict(list)\n",
    "\n",
    "for i in range(10):\n",
    "    print(i)\n",
    "    corr = plot_validation_results_rasqual(ROOT_DIR+'data/validation/rasqual/', seed=i, FDR=10)\n",
    "    for model_arch in corr:\n",
    "        correlation_plot[model_arch].append(corr[model_arch])\n",
    "        \n",
    "print(correlation_plot)"
   ]
  },
  {
   "cell_type": "code",
   "execution_count": 4,
   "metadata": {},
   "outputs": [],
   "source": [
    "corr_mean = defaultdict(float)\n",
    "corr_std = defaultdict(float)\n",
    "\n",
    "for key in correlation_plot:\n",
    "    mean,std = np.average(correlation_plot[key]), np.std(correlation_plot[key])\n",
    "    corr_mean[key] = mean\n",
    "    corr_std[key] = std"
   ]
  },
  {
   "cell_type": "code",
   "execution_count": 9,
   "metadata": {},
   "outputs": [],
   "source": [
    "def plot_rasqual(model_archs, corr_scores, corr_error):\n",
    "    # get gkmSVM auprc and precision\n",
    "#     df_gksvm = pd.read_csv('data/validation/dsQTL/common_snp_gkmSVM_labels.csv',delimiter='\\t')\n",
    "#     df_label = pd.read_csv('data/validation/dsQTL/common_snp_true_labels.csv',delimiter='\\t')\n",
    "\n",
    "#     gkmsvm_pred = np.array(df_gksvm['gkmSVM_labels'])\n",
    "#     true = np.array(df_label['dsQTL_labels'])\n",
    "\n",
    "#     prec,rec,thresholds = precision_recall_curve(true, gkmsvm_pred)\n",
    "#     auprc = auc(rec, prec)\n",
    "\n",
    "#     prec_at_10_rec = prec[np.abs(rec-0.1).argmin()]\n",
    "\n",
    "    plt.figure()\n",
    "    plt.errorbar(model_archs, corr_scores, fmt='bs', yerr=corr_error, label=\"circuitSNP\") \n",
    "    plt.xlabel('model architecture')\n",
    "    plt.ylabel('correlation')\n",
    "    plt.title('Correlation for different NN models')\n",
    "    plt.legend()\n",
    "\n",
    "    plt.savefig(ROOT_DIR+'data/validation/rasqual/results/figure4Left_fromPaper.png')\n"
   ]
  },
  {
   "cell_type": "code",
   "execution_count": 10,
   "metadata": {
    "collapsed": true
   },
   "outputs": [
    {
     "data": {
      "image/png": "[encoded data removed]",
      "text/plain": [
       "<Figure size 432x288 with 1 Axes>"
      ]
     },
     "metadata": {
      "needs_background": "light"
     },
     "output_type": "display_data"
    }
   ],
   "source": [
    "# plot results, with x axis laels in the same order as the paper\n",
    "corr_scores = [corr_mean['(200+40)'],corr_mean['(50+10)'], corr_mean['(10+5)'],\n",
    "                corr_mean['(5+3)'],corr_mean['(1+0)'],corr_mean['(0+0)']]\n",
    "\n",
    "\n",
    "corr_error = [corr_std['(200+40)'],corr_std['(50+10)'],corr_std['(10+5)'],\n",
    "                corr_std['(5+3)'],corr_std['(1+0)'], corr_std['(0+0)']]\n",
    "\n",
    "\n",
    "model_archs = ['200|40','50|10','10|5','5|3','1|0','0|0']\n",
    "plot_rasqual(model_archs,corr_scores,corr_error)\n"
   ]
  },
  {
   "cell_type": "code",
   "execution_count": null,
   "metadata": {},
   "outputs": [],
   "source": [
    "def plot_NN(auprc_x, auprc_y, auprc_err, precision_x, precision_y, precision_err, plotgkmSVM=False):\n",
    "    # get gkmSVM auprc and precision\n",
    "    df_gksvm = pd.read_csv('data/validation/dsQTL/common_snp_gkmSVM_labels.csv',delimiter='\\t')\n",
    "    df_label = pd.read_csv('data/validation/dsQTL/common_snp_true_labels.csv',delimiter='\\t')\n",
    "\n",
    "    gkmsvm_pred = np.array(df_gksvm['gkmSVM_labels'])\n",
    "    true = np.array(df_label['dsQTL_labels'])\n",
    "\n",
    "    prec,rec,thresholds = precision_recall_curve(true, gkmsvm_pred)\n",
    "    auprc = auc(rec, prec)\n",
    "\n",
    "    prec_at_10_rec = prec[np.abs(rec-0.1).argmin()]\n",
    "    fig, ax = plt.subplots(1,2,figsize=(15, 4))\n",
    "    ax[0].errorbar(auprc_x, auprc_y, fmt='bs', yerr=auprc_err, label=\"circuitSNP\") \n",
    "    if plotgkmSVM:\n",
    "        ax[0].plot([0,1,2,3,4,5,6],[auprc]*7,'r--',label=\"gkmSVM\")\n",
    "    ax[0].set_ylim(0.125,0.3)\n",
    "    ax[0].set_xlabel('model architecture')\n",
    "    ax[0].set_ylabel('auprc')\n",
    "    ax[0].set_title('AUPRC for different NN models')\n",
    "    ax[0].legend()\n",
    "    ax[1].errorbar(precision_x,precision_y, fmt='bs', yerr=precision_err, label=\"circuitSNP\")\n",
    "    if plotgkmSVM:\n",
    "        ax[1].plot([0,1,2,3,4,5,6],[prec_at_10_rec]*7,'r--',label=\"gkmSVM\")\n",
    "    \n",
    "    #ax[1].set_ylim(0.3,0.7)\n",
    "    ax[1].set_xlabel('model architecture')\n",
    "    ax[1].set_ylabel('precision @ 10% recall')\n",
    "    ax[1].set_title('Precision @ 10% Recall for different NN models')\n",
    "    ax[1].legend()\n",
    "\n",
    "    fig.savefig(ROOT_DIR+'data/validation/dsQTL/results/figure3_fromPaper_{}gkmSVM.png'.format('with' if plotgkmSVM else 'without'))\n"
   ]
  },
  {
   "cell_type": "code",
   "execution_count": 6,
   "metadata": {
    "scrolled": false
   },
   "outputs": [],
   "source": [
    "# Plot snp validation results \n",
    "def plot_validation_results(seed=0):\n",
    "    validation_output_dir= sorted(glob.glob(ROOT_DIR+'data/validation/dsQTL/results/flanking_size=0/models_seed={}/*.csv'.format(seed)))\n",
    "    df_label = pd.read_csv('data/validation/dsQTL/common_snp_true_labels.csv',delimiter='\\t')\n",
    "    # stores a list of auprc scores for each model architecture\n",
    "    auprc_plot = defaultdict(list)\n",
    "    # stores a list of precision scores for each model architecture\n",
    "    precision_plot = defaultdict(list)\n",
    "    \n",
    "    true = np.array(df_label['dsQTL_labels'])\n",
    "\n",
    "    for output in validation_output_dir:\n",
    "        df = pd.read_csv(output,delimiter='\\t')\n",
    "        model_arch = re.compile('models_seed=.*/model(.*)_replicate.*').search(output).group(1)\n",
    "        \n",
    "        pred = np.array(df['circuitsnp_prediction'])\n",
    "        prec,rec,thresholds = precision_recall_curve(true, pred)\n",
    "\n",
    "        auprc = auc(rec, prec)\n",
    "        \n",
    "        auprc_plot[model_arch].append(auprc)\n",
    "        prec_at_10_rec = prec[np.abs(rec-0.1).argmin()]\n",
    "        precision_plot[model_arch].append(prec_at_10_rec)\n",
    "        \n",
    "    \n",
    "    # take the average score of all 10 replicates for each model architecture\n",
    "    for key in auprc_plot:\n",
    "        auprc_plot[key] = np.average(auprc_plot[key])\n",
    "        precision_plot[key] = np.average(precision_plot[key])\n",
    "    \n",
    "    return auprc_plot,precision_plot\n",
    "\n",
    "\n",
    "auprc_plot = defaultdict(list)\n",
    "precision_plot = defaultdict(list)\n",
    "\n",
    "\n",
    "auprc, precision = plot_validation_results(seed=0)\n",
    "\n",
    "for i in range(10):\n",
    "    auprc, precision = plot_validation_results(seed=i)\n",
    "    for key in auprc:\n",
    "        auprc_plot[key].append(auprc[key])\n",
    "        precision_plot[key].append(precision[key])\n",
    "    \n",
    "\n",
    "    "
   ]
  },
  {
   "cell_type": "code",
   "execution_count": 7,
   "metadata": {},
   "outputs": [],
   "source": [
    "auprc_mean = defaultdict(float)\n",
    "auprc_std = defaultdict(float)\n",
    "precision_mean = defaultdict(float)\n",
    "precision_std = defaultdict(float)\n",
    "\n",
    "for key in auprc_plot:\n",
    "    mean,std = np.average(auprc_plot[key]), np.std(auprc_plot[key])\n",
    "    auprc_mean[key] = mean\n",
    "    auprc_std[key] = std\n",
    "    \n",
    "    mean,std = np.average(precision_plot[key]), np.std(precision_plot[key])\n",
    "    precision_mean[key] = mean\n",
    "    precision_std[key] = std"
   ]
  },
  {
   "cell_type": "code",
   "execution_count": 11,
   "metadata": {
    "collapsed": true
   },
   "outputs": [
    {
     "data": {
      "image/png": "[encoded data removed]",
      "text/plain": [
       "<Figure size 1080x288 with 2 Axes>"
      ]
     },
     "metadata": {
      "needs_background": "light"
     },
     "output_type": "display_data"
    }
   ],
   "source": [
    "# plot results, with x axis laels in the same order as the paper\n",
    "auprc_scores = [auprc_mean['(200+40)'],auprc_mean['(50+10)'], auprc_mean['(10+5)'],\n",
    "                auprc_mean['(5+3)'],auprc_mean['(1+0)'],auprc_mean['(0+0)']]\n",
    "precision_scores = [precision_mean['(200+40)'], precision_mean['(50+10)'],precision_mean['(10+5)'],\n",
    "                    precision_mean['(5+3)'],precision_mean['(1+0)'],precision_mean['(0+0)']]\n",
    "\n",
    "\n",
    "auprc_error = [auprc_std['(200+40)'],auprc_std['(50+10)'],auprc_std['(10+5)'],\n",
    "                auprc_std['(5+3)'],auprc_std['(1+0)'], auprc_std['(0+0)']]\n",
    "precision_error = [precision_std['(200+40)'], precision_std['(50+10)'], precision_std['(10+5)'],\n",
    "                    precision_std['(5+3)'],precision_std['(1+0)'], precision_std['(0+0)']]\n",
    "\n",
    "\n",
    "model_archs = ['200|40','50|10','10|5','5|3','1|0','0|0']\n",
    "plot_NN(model_archs,auprc_scores,auprc_error, model_archs, precision_scores, precision_error)\n"
   ]
  },
  {
   "cell_type": "code",
   "execution_count": 63,
   "metadata": {},
   "outputs": [],
   "source": [
    "def plot_flank_sizes(auprc_x, auprc_y, auprc_err, precision_x, precision_y, precision_err, plotgkmSVM=False, best_model = '(5+3)'):\n",
    "    # get gkmSVM auprc and precision\n",
    "    df_gksvm = pd.read_csv('data/validation/dsQTL/common_snp_gkmSVM_labels.csv',delimiter='\\t')\n",
    "    gkmsvm_pred = np.array(df_gksvm['gkmSVM_labels'])\n",
    "    true = np.array(df_label['dsQTL_labels'])\n",
    "\n",
    "    prec,rec,thresholds = precision_recall_curve(true, gkmsvm_pred)\n",
    "    auprc_gkmSVM = auc(rec, prec)\n",
    "    prec_at_10_rec_gkmSVM = prec[np.abs(rec-0.1).argmin()]\n",
    "    \n",
    "    fig, ax = plt.subplots(1,2,figsize=(15, 4))\n",
    "    ax[0].errorbar(auprc_x, auprc_y, fmt='bs', yerr=auprc_err, label=\"circuitSNP\") \n",
    "    if plotgkmSVM:\n",
    "        ax[0].plot(range(len(auprc_x)),[auprc_gkmSVM]*len(auprc_x),'r--',label=\"gkmSVM\")\n",
    "    #ax[0].set_ylim(0.16,0.21)\n",
    "    ax[0].set_xlabel('Window Size')\n",
    "    ax[0].set_ylabel('auprc')\n",
    "    ax[0].set_title('AUPRC for different window sizes(model architecture: {})'.format(best_model))\n",
    "    ax[0].legend()\n",
    "    \n",
    "    ax[1].errorbar(precision_x,precision_y, fmt='bs', yerr=precision_err, label=\"circuitSNP\")\n",
    "    if plotgkmSVM:\n",
    "        ax[1].plot(range(len(auprc_x)),[prec_at_10_rec_gkmSVM]*len(auprc_x),'r--',label=\"gkmSVM\")\n",
    "    #ax[1].set_ylim(0.45,0.9)\n",
    "    ax[1].set_xlabel('model architecture')\n",
    "    ax[1].set_ylabel('precision @ 10% recall')\n",
    "    ax[1].set_title('Precision @ 10% Recall for different window sizes(model architecture: {})'.format(best_model))\n",
    "    ax[1].legend()\n",
    "\n",
    "    fig.savefig(ROOT_DIR+'data/validation/dsQTL/results/figureS4_fromPaper_{}gkmSVM.png'.format('with' if plotgkmSVM else 'without' ))\n",
    "    "
   ]
  },
  {
   "cell_type": "code",
   "execution_count": 56,
   "metadata": {},
   "outputs": [],
   "source": [
    "def plot_validation_results_flanking(seed=0, flank_size=0, best_model='(5+3)'):\n",
    "    df_label = pd.read_csv('data/validation/dsQTL/common_snp_true_labels.csv',delimiter='\\t')\n",
    "    validation_output_dir= sorted(glob.glob(ROOT_DIR+'data/validation/dsQTL/results/flanking_size={}/models_seed={}/model{}*.csv'.format(flank_size, seed, best_model)))\n",
    "    df_label = pd.read_csv('data/validation/dsQTL/common_snp_true_labels.csv',delimiter='\\t')\n",
    "    # stores a list of auprc scores for each model architecture\n",
    "    auprc_plot = []\n",
    "    # stores a list of precision scores for each model architecture\n",
    "    precision_plot = []\n",
    "    \n",
    "    \n",
    "    true = np.array(df_label['dsQTL_labels'])\n",
    "\n",
    "    for output in validation_output_dir:\n",
    "        df = pd.read_csv(output,delimiter='\\t')\n",
    "        # model_arch = re.compile('models_seed=.*/model(.*)_replicate.*').search(output).group(1)\n",
    "            \n",
    "        pred = np.array(df['circuitsnp_prediction'])\n",
    "        \n",
    "        prec,rec,thresholds = precision_recall_curve(true, pred)\n",
    "        auprc = auc(rec, prec)\n",
    "        auprc_plot.append(auprc)\n",
    "        \n",
    "        prec_at_10_rec = prec[np.abs(rec-0.1).argmin()]\n",
    "        precision_plot.append(prec_at_10_rec)\n",
    "        \n",
    "    \n",
    "    # take the average score of all 10 replicates\n",
    "    auprc_plot = np.average(auprc_plot)\n",
    "    precision_plot = np.average(precision_plot)\n",
    "\n",
    "    return auprc_plot,precision_plot\n",
    "\n",
    "\n",
    "best_model = '(5+3)'\n",
    "auprc_plot = defaultdict(list)\n",
    "precision_plot = defaultdict(list)\n",
    "\n",
    "for flank_size in FLANK_SIZES:\n",
    "    for i in range(10):\n",
    "        auprc, precision = plot_validation_results_flanking(seed=i,flank_size=flank_size, best_model=best_model)\n",
    "        auprc_plot[flank_size].append(auprc)\n",
    "        precision_plot[flank_size].append(precision)\n",
    "        "
   ]
  },
  {
   "cell_type": "code",
   "execution_count": 57,
   "metadata": {},
   "outputs": [],
   "source": [
    "auprc_mean = defaultdict(float)\n",
    "auprc_std = defaultdict(float)\n",
    "precision_mean = defaultdict(float)\n",
    "precision_std = defaultdict(float)\n",
    "\n",
    "for flank_size in auprc_plot:\n",
    "    mean,std = np.average(auprc_plot[flank_size]), np.std(auprc_plot[flank_size])\n",
    "    auprc_mean[flank_size] = mean\n",
    "    auprc_std[flank_size] = std\n",
    "    \n",
    "    mean,std = np.average(precision_plot[flank_size]), np.std(precision_plot[flank_size])\n",
    "    precision_mean[flank_size] = mean\n",
    "    precision_std[flank_size] = std"
   ]
  },
  {
   "cell_type": "code",
   "execution_count": 65,
   "metadata": {},
   "outputs": [
    {
     "data": {
      "image/png": "[encoded data removed]",
      "text/plain": [
       "<Figure size 1080x288 with 2 Axes>"
      ]
     },
     "metadata": {
      "needs_background": "light"
     },
     "output_type": "display_data"
    }
   ],
   "source": [
    "# plot results, with x axis laels in the same order as the paper\n",
    "auprc_scores = []\n",
    "for flank_size in sorted(auprc_mean, reverse=True):\n",
    "    auprc_scores.append(auprc_mean[flank_size])\n",
    "    \n",
    "precision_scores = []\n",
    "for flank_size in sorted(precision_mean, reverse=True):\n",
    "    precision_scores.append(precision_mean[flank_size])\n",
    "\n",
    "auprc_error = []\n",
    "for flank_size in sorted(auprc_std, reverse=True):\n",
    "    auprc_error.append(auprc_std[flank_size])\n",
    "    \n",
    "precision_error = []\n",
    "for flank_size in sorted(precision_std, reverse=True):\n",
    "    precision_error.append(precision_std[flank_size])    \n",
    "\n",
    "    \n",
    "flank_sizes = map(str,list(FLANK_SIZES))\n",
    "flank_sizes.reverse()\n",
    "\n",
    "plot_flank_sizes(flank_sizes, auprc_scores, auprc_error, flank_sizes, precision_scores, precision_error, \n",
    "                 plotgkmSVM=False, best_model = best_model)\n"
   ]
  },
  {
   "cell_type": "code",
   "execution_count": null,
   "metadata": {},
   "outputs": [],
   "source": []
  }
 ],
 "metadata": {
  "kernelspec": {
   "display_name": "Python 2",
   "language": "python",
   "name": "python2"
  },
  "language_info": {
   "codemirror_mode": {
    "name": "ipython",
    "version": 2
   },
   "file_extension": ".py",
   "mimetype": "text/x-python",
   "name": "python",
   "nbconvert_exporter": "python",
   "pygments_lexer": "ipython2",
   "version": "2.7.13"
  }
 },
 "nbformat": 4,
 "nbformat_minor": 4
}
